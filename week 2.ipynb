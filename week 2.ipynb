{
 "cells": [
  {
   "cell_type": "markdown",
   "metadata": {},
   "source": [
    "Data analysis of AirBnB's in Amsterdam for a week in September."
   ]
  },
  {
   "cell_type": "code",
   "execution_count": 155,
   "metadata": {},
   "outputs": [
    {
     "name": "stdout",
     "output_type": "stream",
     "text": [
      "Number of available Airbnbs for a week in september: 8445\n",
      "\n",
      "Average amount of people per Airbnb for a week in september: 2.89\n",
      "Total amount of sleeping places for all Airbnbs for a week in september: 24401\n",
      "\n",
      "Average total price per night per Airbnb in a week in september in euros: €258.76\n",
      "Average price per person per night for a week in september in euros: €89.55\n",
      "Total price for all available Airbnbs in a week in september in euros: €2185257.61\n",
      "\n"
     ]
    }
   ],
   "source": [
    "import pandas as pd\n",
    "\n",
    "# Load the CSV file into a DataFrame with 'ISO-8859-1' encoding and specify the delimiter\n",
    "file_path = r'C:\\Users\\lenni\\OneDrive\\Documenten\\2023-2025 MSc MADE\\Data 1\\listings_ams.csv'\n",
    "df = pd.read_csv(file_path, encoding='ISO-8859-1', sep=';')\n",
    "\n",
    "# Filter the DataFrame to only include rows with availability in the next 30 days\n",
    "df = df[df['availability_30'] > 0]\n",
    "\n",
    "# Calculate the average price per night per Airbnb in euros for available Airbnbs\n",
    "average_price_per_night_dollars = df['price'].mean()\n",
    "exchange_rate = 0.94  # Exchange rate from dollars to euros\n",
    "average_price_per_night_euros = average_price_per_night_dollars * exchange_rate\n",
    "\n",
    "# Use availability_30 directly for the total price calculation PER WEEK\n",
    "total_price_dollars = (average_price_per_night_dollars * df['availability_30']).sum()\n",
    "total_price_euros_week = total_price_dollars * exchange_rate / 30 * 7\n",
    "\n",
    "# Calculate the number of Airbnbs available in the next WEEK\n",
    "airbnbs_available_next_week = df['availability_30'].sum() / 30 * 7\n",
    "\n",
    "# Calculate the total number of people these Airbnbs can accommodate IN THE NEXT WEEK\n",
    "total_accommodates_week = (df['accommodates'] * df['availability_30']).sum() / 30 * 7\n",
    "\n",
    "# Calculate the average price per person per night for the next 30 days\n",
    "average_price_per_person_per_night_next_week = total_price_euros / total_accommodates_week / 30 * 7\n",
    "\n",
    "# Calculate the average amount of people per Airbnb\n",
    "average_people_per_airbnb = total_accommodates_week / airbnbs_available_next_week\n",
    "\n",
    "# Display the answers\n",
    "print(f\"Number of available Airbnbs for a week in september: {airbnbs_available_next_week:.0f}\")\n",
    "print()  # Add a break\n",
    "print(f\"Average amount of people per Airbnb for a week in september: {average_people_per_airbnb:.2f}\")\n",
    "print(f\"Total amount of sleeping places for all Airbnbs for a week in september: {airbnbs_available_next_week*average_people_per_airbnb:.0f}\")\n",
    "print()  # Add a break\n",
    "print(f\"Average total price per night per Airbnb in a week in september in euros: €{average_price_per_night_euros:.2f}\")\n",
    "print(f\"Average price per person per night for a week in september in euros: €{average_price_per_person_per_night_next_week:.2f}\")\n",
    "print(f\"Total price for all available Airbnbs in a week in september in euros: €{total_price_euros_week:.2f}\")\n",
    "print()  # Add a break\n"
   ]
  }
 ],
 "metadata": {
  "kernelspec": {
   "display_name": "Python 3 (ipykernel)",
   "language": "python",
   "name": "python3"
  },
  "language_info": {
   "codemirror_mode": {
    "name": "ipython",
    "version": 3
   },
   "file_extension": ".py",
   "mimetype": "text/x-python",
   "name": "python",
   "nbconvert_exporter": "python",
   "pygments_lexer": "ipython3",
   "version": "3.11.5"
  }
 },
 "nbformat": 4,
 "nbformat_minor": 4
}
